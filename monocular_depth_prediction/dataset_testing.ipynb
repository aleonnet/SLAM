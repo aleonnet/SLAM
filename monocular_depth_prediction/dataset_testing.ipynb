{
 "cells": [
  {
   "cell_type": "code",
   "execution_count": 1,
   "metadata": {},
   "outputs": [],
   "source": [
    "from datasets.flir_dataset import FlirDataset\n",
    "from datasets.kaist_dataset import KAIST_Dataset\n",
    "import os\n",
    "from torch.utils.data import DataLoader"
   ]
  },
  {
   "cell_type": "code",
   "execution_count": 2,
   "metadata": {},
   "outputs": [
    {
     "name": "stdout",
     "output_type": "stream",
     "text": [
      "/mnt/d/danie/Documents/ComputerVisionResearch/FLIR_dataset/pre_dat/train/PreviewData/FLIR_07750.jpeg\n",
      "/mnt/d/danie/Documents/ComputerVisionResearch/FLIR_dataset/pre_dat/train/PreviewData/FLIR_07749.jpeg\n",
      "/mnt/d/danie/Documents/ComputerVisionResearch/FLIR_dataset/pre_dat/train/PreviewData/FLIR_07751.jpeg\n",
      "/mnt/d/danie/Documents/ComputerVisionResearch/FLIR_dataset/pre_dat/train/PreviewData/FLIR_05609.jpeg\n",
      "/mnt/d/danie/Documents/ComputerVisionResearch/FLIR_dataset/pre_dat/train/PreviewData/FLIR_05608.jpeg\n",
      "/mnt/d/danie/Documents/ComputerVisionResearch/FLIR_dataset/pre_dat/train/PreviewData/FLIR_05610.jpeg\n",
      "/mnt/d/danie/Documents/ComputerVisionResearch/FLIR_dataset/pre_dat/train/PreviewData/FLIR_08151.jpeg\n",
      "/mnt/d/danie/Documents/ComputerVisionResearch/FLIR_dataset/pre_dat/train/PreviewData/FLIR_08150.jpeg\n",
      "/mnt/d/danie/Documents/ComputerVisionResearch/FLIR_dataset/pre_dat/train/PreviewData/FLIR_08152.jpeg\n",
      "/mnt/d/danie/Documents/ComputerVisionResearch/FLIR_dataset/pre_dat/train/PreviewData/FLIR_03341.jpeg\n",
      "/mnt/d/danie/Documents/ComputerVisionResearch/FLIR_dataset/pre_dat/train/PreviewData/FLIR_03340.jpeg\n",
      "/mnt/d/danie/Documents/ComputerVisionResearch/FLIR_dataset/pre_dat/train/PreviewData/FLIR_03342.jpeg\n",
      "/mnt/d/danie/Documents/ComputerVisionResearch/FLIR_dataset/pre_dat/train/PreviewData/FLIR_01466.jpeg\n",
      "/mnt/d/danie/Documents/ComputerVisionResearch/FLIR_dataset/pre_dat/train/PreviewData/FLIR_01465.jpeg\n",
      "/mnt/d/danie/Documents/ComputerVisionResearch/FLIR_dataset/pre_dat/train/PreviewData/FLIR_01467.jpeg\n",
      "/mnt/d/danie/Documents/ComputerVisionResearch/FLIR_dataset/pre_dat/train/PreviewData/FLIR_03737.jpeg\n",
      "/mnt/d/danie/Documents/ComputerVisionResearch/FLIR_dataset/pre_dat/train/PreviewData/FLIR_03736.jpeg\n",
      "/mnt/d/danie/Documents/ComputerVisionResearch/FLIR_dataset/pre_dat/train/PreviewData/FLIR_03738.jpeg\n",
      "/mnt/d/danie/Documents/ComputerVisionResearch/FLIR_dataset/pre_dat/video/PreviewData/FLIR_video_02579.jpeg\n",
      "/mnt/d/danie/Documents/ComputerVisionResearch/FLIR_dataset/pre_dat/video/PreviewData/FLIR_video_02578.jpeg\n",
      "/mnt/d/danie/Documents/ComputerVisionResearch/FLIR_dataset/pre_dat/video/PreviewData/FLIR_video_02580.jpeg\n",
      "/mnt/d/danie/Documents/ComputerVisionResearch/FLIR_dataset/pre_dat/video/PreviewData/FLIR_video_02433.jpeg\n",
      "/mnt/d/danie/Documents/ComputerVisionResearch/FLIR_dataset/pre_dat/video/PreviewData/FLIR_video_02432.jpeg\n",
      "/mnt/d/danie/Documents/ComputerVisionResearch/FLIR_dataset/pre_dat/video/PreviewData/FLIR_video_02434.jpeg\n"
     ]
    }
   ],
   "source": [
    "data_path = '/mnt/d/danie/Documents/ComputerVisionResearch/FLIR_dataset/pre_dat/'\n",
    "train_filenames = []\n",
    "\n",
    "train_filenames.extend(os.path.join(data_path, 'train/PreviewData/') + \n",
    "                       file for file in os.listdir(os.path.join(data_path, 'train/PreviewData/'))[1:-1])\n",
    "train_filenames.extend(os.path.join(data_path, 'video/PreviewData/') + \n",
    "                       file for file in os.listdir(os.path.join(data_path, 'video/PreviewData/'))[1:-1])\n",
    "\n",
    "flir_dataset = FlirDataset(data_path, train_filenames, 448, 512, [0, -1, 1], 4,\n",
    "                        is_train = True, img_ext='.jpeg', thermal=True)\n",
    "\n",
    "flir_loader = DataLoader(flir_dataset, 8, True,\n",
    "        num_workers=0, pin_memory=True, drop_last=True)\n",
    "\n",
    "for batch_idx, inputs in enumerate(flir_loader):\n",
    "        break"
   ]
  },
  {
   "cell_type": "code",
   "execution_count": 3,
   "metadata": {},
   "outputs": [
    {
     "name": "stdout",
     "output_type": "stream",
     "text": [
      "/mnt/d/danie/Documents/ComputerVisionResearch/MTN_dataset_shin_v2/training/Campus/THERMAL/THER_000000125.jpg\n",
      "/mnt/d/danie/Documents/ComputerVisionResearch/MTN_dataset_shin_v2/training/Campus/THERMAL/THER_000000124.jpg\n",
      "/mnt/d/danie/Documents/ComputerVisionResearch/MTN_dataset_shin_v2/training/Campus/THERMAL/THER_000000126.jpg\n",
      "/mnt/d/danie/Documents/ComputerVisionResearch/MTN_dataset_shin_v2/training/Campus/THERMAL/THER_000000688.jpg\n",
      "/mnt/d/danie/Documents/ComputerVisionResearch/MTN_dataset_shin_v2/training/Campus/THERMAL/THER_000000687.jpg\n",
      "/mnt/d/danie/Documents/ComputerVisionResearch/MTN_dataset_shin_v2/training/Campus/THERMAL/THER_000000689.jpg\n",
      "/mnt/d/danie/Documents/ComputerVisionResearch/MTN_dataset_shin_v2/training/Campus/THERMAL/THER_000000023.jpg\n",
      "/mnt/d/danie/Documents/ComputerVisionResearch/MTN_dataset_shin_v2/training/Campus/THERMAL/THER_000000022.jpg\n",
      "/mnt/d/danie/Documents/ComputerVisionResearch/MTN_dataset_shin_v2/training/Campus/THERMAL/THER_000000024.jpg\n",
      "/mnt/d/danie/Documents/ComputerVisionResearch/MTN_dataset_shin_v2/training/Urban/THERMAL/THER_000002947.jpg\n",
      "/mnt/d/danie/Documents/ComputerVisionResearch/MTN_dataset_shin_v2/training/Urban/THERMAL/THER_000002946.jpg\n",
      "/mnt/d/danie/Documents/ComputerVisionResearch/MTN_dataset_shin_v2/training/Urban/THERMAL/THER_000002948.jpg\n",
      "/mnt/d/danie/Documents/ComputerVisionResearch/MTN_dataset_shin_v2/training/Campus/THERMAL/THER_000000587.jpg\n",
      "/mnt/d/danie/Documents/ComputerVisionResearch/MTN_dataset_shin_v2/training/Campus/THERMAL/THER_000000586.jpg\n",
      "/mnt/d/danie/Documents/ComputerVisionResearch/MTN_dataset_shin_v2/training/Campus/THERMAL/THER_000000588.jpg\n",
      "/mnt/d/danie/Documents/ComputerVisionResearch/MTN_dataset_shin_v2/training/Campus/THERMAL/THER_000000134.jpg\n",
      "/mnt/d/danie/Documents/ComputerVisionResearch/MTN_dataset_shin_v2/training/Campus/THERMAL/THER_000000133.jpg\n",
      "/mnt/d/danie/Documents/ComputerVisionResearch/MTN_dataset_shin_v2/training/Campus/THERMAL/THER_000000135.jpg\n",
      "/mnt/d/danie/Documents/ComputerVisionResearch/MTN_dataset_shin_v2/training/Residential/THERMAL/THER_000001598.jpg\n",
      "/mnt/d/danie/Documents/ComputerVisionResearch/MTN_dataset_shin_v2/training/Residential/THERMAL/THER_000001597.jpg\n",
      "/mnt/d/danie/Documents/ComputerVisionResearch/MTN_dataset_shin_v2/training/Residential/THERMAL/THER_000001599.jpg\n",
      "/mnt/d/danie/Documents/ComputerVisionResearch/MTN_dataset_shin_v2/training/Urban/THERMAL/THER_000002710.jpg\n",
      "/mnt/d/danie/Documents/ComputerVisionResearch/MTN_dataset_shin_v2/training/Urban/THERMAL/THER_000002709.jpg\n",
      "/mnt/d/danie/Documents/ComputerVisionResearch/MTN_dataset_shin_v2/training/Urban/THERMAL/THER_000002711.jpg\n"
     ]
    }
   ],
   "source": [
    "data_path = '/mnt/d/danie/Documents/ComputerVisionResearch/MTN_dataset_shin_v2/'\n",
    "train_files = os.path.join(data_path, 'training')\n",
    "train_filenames = []\n",
    "\n",
    "train_filenames.extend(os.path.join(train_files, 'Campus/THERMAL/') + \n",
    "                       file for file in os.listdir(os.path.join(train_files, 'Campus/THERMAL/'))[1:-1])\n",
    "train_filenames.extend(os.path.join(train_files, 'Residential/THERMAL/') + \n",
    "                       file for file in os.listdir(os.path.join(train_files, 'Residential/THERMAL/'))[1:-1])\n",
    "train_filenames.extend(os.path.join(train_files, 'Urban/THERMAL/') + \n",
    "                       file for file in os.listdir(os.path.join(train_files, 'Urban/THERMAL/'))[1:-1])\n",
    "\n",
    "kaist_dataset = KAIST_Dataset(data_path, train_filenames, 448, 512, [0, -1, 1], 4,\n",
    "                        is_train = True, img_ext='.jpg', thermal = True)\n",
    "kaist_loader = DataLoader(kaist_dataset, 8, True,\n",
    "        num_workers=0, pin_memory=True, drop_last=True)\n",
    "\n",
    "for batch_idx, inputs in enumerate(kaist_loader):\n",
    "        break"
   ]
  }
 ],
 "metadata": {
  "kernelspec": {
   "display_name": "Python 3",
   "language": "python",
   "name": "python3"
  },
  "language_info": {
   "codemirror_mode": {
    "name": "ipython",
    "version": 3
   },
   "file_extension": ".py",
   "mimetype": "text/x-python",
   "name": "python",
   "nbconvert_exporter": "python",
   "pygments_lexer": "ipython3",
   "version": "3.7.3"
  }
 },
 "nbformat": 4,
 "nbformat_minor": 2
}
